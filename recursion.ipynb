{
 "cells": [
  {
   "cell_type": "markdown",
   "id": "02aa0404",
   "metadata": {},
   "source": [
    "# Recursion"
   ]
  },
  {
   "cell_type": "code",
   "execution_count": null,
   "id": "844944c3",
   "metadata": {},
   "outputs": [
    {
     "name": "stdout",
     "output_type": "stream",
     "text": [
      "35\n"
     ]
    }
   ],
   "source": [
    "# Product\n",
    "def mul(a,b):\n",
    "    if b == 1:\n",
    "        return a\n",
    "    else:\n",
    "        return a+mul(a,b-1)\n",
    "print(mul(7,5))   "
   ]
  },
  {
   "cell_type": "code",
   "execution_count": 5,
   "id": "4ab49b47",
   "metadata": {},
   "outputs": [
    {
     "name": "stdout",
     "output_type": "stream",
     "text": [
      "120\n"
     ]
    }
   ],
   "source": [
    "# Factorial\n",
    "def fact(n):\n",
    "    if n==1:\n",
    "        return 1\n",
    "    else:\n",
    "        return n*fact(n-1)\n",
    "print(fact(5))    "
   ]
  },
  {
   "cell_type": "code",
   "execution_count": null,
   "id": "406f4e36",
   "metadata": {},
   "outputs": [
    {
     "name": "stdout",
     "output_type": "stream",
     "text": [
      "It is not a Palindrome\n",
      "It is a Palindrome\n"
     ]
    }
   ],
   "source": [
    "# palindrome\n",
    "def pal(n):\n",
    "    if len(n) <= 1:\n",
    "        return \"It is a Palindrome\"\n",
    "    if n == n[::-1]:\n",
    "        return \"It is a Palindrome\"\n",
    "    else:\n",
    "        return \"It is not a Palindrome\"\n",
    "print(pal('I am '))   \n",
    "\n",
    "\n",
    "\n",
    "# Numeric one\n",
    "\n",
    "def isPalindrome(self, x):\n",
    "        \"\"\"\n",
    "        :type x: int\n",
    "        :rtype: bool\n",
    "        \"\"\"\n",
    "        if x < 0 or (x % 10 == 0 and x != 0):\n",
    "            return False\n",
    "        elif str(x) == str(x)[::-1]:\n",
    "            return True\n",
    "        return False       \n",
    "print(isPalindrome('I am '))   "
   ]
  },
  {
   "cell_type": "code",
   "execution_count": null,
   "id": "1e0e8789",
   "metadata": {},
   "outputs": [
    {
     "name": "stdout",
     "output_type": "stream",
     "text": [
      "-291\n",
      "-291\n",
      "123\n",
      "123\n"
     ]
    }
   ],
   "source": [
    "# Reverse a number\n",
    "def reverse(x):\n",
    "        \"\"\"\n",
    "        :type x: int\n",
    "        :rtype: int\n",
    "        \"\"\"\n",
    "        if x < 0:\n",
    "            y = str(-x)[::-1]\n",
    "            r = -int(y)\n",
    "        else:\n",
    "            y = str(x)[::-1]\n",
    "            r = int(y)\n",
    "        print(r)\n",
    "        return r\n",
    "print(reverse(-192))   \n",
    "print(reverse(321)) "
   ]
  },
  {
   "cell_type": "code",
   "execution_count": null,
   "id": "19fc78e4",
   "metadata": {},
   "outputs": [
    {
     "name": "stdout",
     "output_type": "stream",
     "text": [
      "0 1 1 2 3 5 8 13 21 34 55 89 144 233 377 610 987 1597 2584 4181  \n",
      "0.007182121276855469\n",
      "225591516161936330872512695036072072046011324913758190588638866418474627738686883405015987052796968498626\n",
      "1/1/2/3/5/8/13/21/34/55/89/144/233/377/610/987/1597/2584/4181/6765/10946/17711/28657/46368/75025/121393/196418/317811/514229/832040/1346269/2178309/3524578/5702887/9227465/14930352/24157817/39088169/63245986/102334155/165580141/267914296/433494437/701408733/1134903170/1836311903/2971215073/4807526976/ \n",
      "0.0005588531494140625\n"
     ]
    }
   ],
   "source": [
    "import time\n",
    "# fib\n",
    "def fib(n):\n",
    "    if n==0:\n",
    "        return 0\n",
    "    elif n == 1:\n",
    "        return 1\n",
    "    else:\n",
    "        return fib(n-1)+fib(n-2)\n",
    "s =time.time()    \n",
    "for i in range(20):\n",
    "    print(fib(i),end=\" \") \n",
    "print(\" \")      \n",
    "print(time.time()-s)  # time taken to excuted this code   for 20 units       \n",
    " # fib in fast way\n",
    "\n",
    "def fibo(m, d):\n",
    "    if m in d:\n",
    "        return d[m]\n",
    "    else:\n",
    "        d[m] = fibo(m - 1, d) + fibo(m - 2, d)\n",
    "        return d[m]\n",
    "d = {0: 1, 1: 1}\n",
    "\n",
    "s =time.time()\n",
    "\n",
    "print(fibo(500, d))\n",
    "\n",
    "for i in range(48):\n",
    "    print(fibo(i, d),end='/')\n",
    "\n",
    "print(\" \")    \n",
    "print(time.time()-s)  # time taken to excuted this code  for 500 units  \n",
    "\n",
    "     "
   ]
  },
  {
   "cell_type": "code",
   "execution_count": 78,
   "id": "a112c1d0",
   "metadata": {},
   "outputs": [
    {
     "name": "stdout",
     "output_type": "stream",
     "text": [
      "[]  [1]  [2]  [3]  [1, 2]  [1, 3]  [2, 3]  [1, 2, 3]  "
     ]
    }
   ],
   "source": [
    "# Subset from list\n",
    "from itertools import combinations\n",
    "def sub(a):\n",
    "    r = []\n",
    "    for i in range(len(a)+1):\n",
    "        for c in combinations(a, i):\n",
    "            r.append(list(c))\n",
    "    return r\n",
    "o = [1, 2, 3]\n",
    "s = sub(o)\n",
    "for s in s:\n",
    "    print(s,end=\"  \")\n"
   ]
  }
 ],
 "metadata": {
  "kernelspec": {
   "display_name": "Python 3",
   "language": "python",
   "name": "python3"
  },
  "language_info": {
   "codemirror_mode": {
    "name": "ipython",
    "version": 3
   },
   "file_extension": ".py",
   "mimetype": "text/x-python",
   "name": "python",
   "nbconvert_exporter": "python",
   "pygments_lexer": "ipython3",
   "version": "3.9.6"
  }
 },
 "nbformat": 4,
 "nbformat_minor": 5
}
