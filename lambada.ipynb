{
 "cells": [
  {
   "cell_type": "code",
   "execution_count": null,
   "id": "aaf905ea",
   "metadata": {},
   "outputs": [
    {
     "name": "stdout",
     "output_type": "stream",
     "text": [
      "4\n",
      "6\n"
     ]
    }
   ],
   "source": [
    "x = lambda x:x**2\n",
    "print(x(2))\n",
    "a = lambda x,y :x +y\n",
    "print(a(2,4))"
   ]
  },
  {
   "cell_type": "code",
   "execution_count": 10,
   "id": "18c43cf5",
   "metadata": {},
   "outputs": [
    {
     "name": "stdout",
     "output_type": "stream",
     "text": [
      "Palindrome Number\n",
      "Palindrome Number\n",
      "Not a Palindrome\n"
     ]
    }
   ],
   "source": [
    "is_palindrome = lambda x:\"Palindrome Number\" if str(x) == str(x)[::-1] else \"Not a Palindrome\"\n",
    "print(is_palindrome(\"madam\"))    \n",
    "print(is_palindrome(121))       \n",
    "print(is_palindrome(\"hello\"))   \n",
    "\n"
   ]
  },
  {
   "cell_type": "code",
   "execution_count": 9,
   "id": "48812ba0",
   "metadata": {},
   "outputs": [
    {
     "name": "stdout",
     "output_type": "stream",
     "text": [
      "odd\n"
     ]
    }
   ],
   "source": [
    "b=lambda x: \"Even\" if x%2 ==0 else \"odd\"\n",
    "print(b(9))"
   ]
  },
  {
   "cell_type": "code",
   "execution_count": null,
   "id": "52b207ce",
   "metadata": {},
   "outputs": [
    {
     "name": "stdout",
     "output_type": "stream",
     "text": [
      "120\n"
     ]
    }
   ],
   "source": [
    "fact = lambda x: 1 if x == 0 else x * fact(x - 1)\n",
    "print(fact(5))  \n",
    "\n"
   ]
  },
  {
   "cell_type": "code",
   "execution_count": 13,
   "id": "2de9158b",
   "metadata": {},
   "outputs": [
    {
     "name": "stdout",
     "output_type": "stream",
     "text": [
      "321\n"
     ]
    }
   ],
   "source": [
    "x=lambda x: str(x)[::-1]\n",
    "print(x(123))\n"
   ]
  },
  {
   "cell_type": "code",
   "execution_count": 14,
   "id": "efc16266",
   "metadata": {},
   "outputs": [
    {
     "name": "stdout",
     "output_type": "stream",
     "text": [
      "270\n",
      "270\n",
      "270\n"
     ]
    }
   ],
   "source": [
    "def sum(f,l):\n",
    "    r=0\n",
    "    for i in l:\n",
    "        r +=i\n",
    "    return r\n",
    "l = [1,2,31,3,4,56,12,34,68,3,2,54]\n",
    "x= lambda x:x%2 == 0\n",
    "y= lambda x:x%2 != 0\n",
    "z= lambda x:x%3 == 0\n",
    "print(sum(x,l))\n",
    "print(sum(y,l))\n",
    "print(sum(z,l))\n"
   ]
  },
  {
   "cell_type": "code",
   "execution_count": null,
   "id": "ec9188cf",
   "metadata": {},
   "outputs": [
    {
     "name": "stdout",
     "output_type": "stream",
     "text": [
      "['Ankit', 'Adi', 'Shyam'] [20, 24, 19] ['ITER', 'ITER', 'ITER']\n"
     ]
    }
   ],
   "source": [
    "# map\n",
    "a=[\n",
    "    {\n",
    "        'name':'Ankit',\n",
    "        'age':20,\n",
    "        'college':'ITER'\n",
    "    },\n",
    "     {\n",
    "        'name':'Adi',\n",
    "        'age':24,\n",
    "        'college':'ITER'\n",
    "    },\n",
    "     {\n",
    "        'name':'Shyam',\n",
    "        'age':19,\n",
    "        'college':'ITER'\n",
    "    },\n",
    "]\n",
    "print(list(map(lambda x: x['name'],a)),list(map(lambda x: x['age'],a)),\n",
    "list(map(lambda x: x['college'],a)))"
   ]
  },
  {
   "cell_type": "code",
   "execution_count": 25,
   "id": "7079932e",
   "metadata": {},
   "outputs": [
    {
     "data": {
      "text/plain": [
       "['apple', 'orange']"
      ]
     },
     "execution_count": 25,
     "metadata": {},
     "output_type": "execute_result"
    }
   ],
   "source": [
    "# filter\n",
    "l=[1,2,3,4,5,6,7,8,9,10]\n",
    "list(filter(lambda x: x>4 ,l))\n",
    "a=['apple','orange','guava','mango']\n",
    "list(filter(lambda x: 'e' in x,a))"
   ]
  },
  {
   "cell_type": "code",
   "execution_count": 58,
   "id": "689d20b4",
   "metadata": {},
   "outputs": [
    {
     "name": "stdout",
     "output_type": "stream",
     "text": [
      "55\n",
      "55\n",
      "3628800\n",
      "10\n",
      "120\n"
     ]
    }
   ],
   "source": [
    "# Reduce\n",
    "import functools\n",
    "l=[1,2,3,4,5,6,7,8,9,10]\n",
    "for i in range(1,10):\n",
    "    r=(functools.reduce(lambda x, y: x + y, range(i+2)))\n",
    "\n",
    "print(r)    \n",
    "print(functools.reduce(lambda x,y:x+y,l)) # sum\n",
    "print(functools.reduce(lambda x,y:x*y,l)) # product\n",
    "\n",
    "print(functools.reduce(lambda x,y:x if x > y else y,l) )\n",
    "# factorial\n",
    "for i in range(1, 6):\n",
    "    r = functools.reduce(lambda x, y: x * y, range(1, i + 1)) # factorial logic\n",
    "print(r)    "
   ]
  }
 ],
 "metadata": {
  "kernelspec": {
   "display_name": "Python 3",
   "language": "python",
   "name": "python3"
  },
  "language_info": {
   "codemirror_mode": {
    "name": "ipython",
    "version": 3
   },
   "file_extension": ".py",
   "mimetype": "text/x-python",
   "name": "python",
   "nbconvert_exporter": "python",
   "pygments_lexer": "ipython3",
   "version": "3.9.6"
  }
 },
 "nbformat": 4,
 "nbformat_minor": 5
}
