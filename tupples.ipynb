{
 "cells": [
  {
   "cell_type": "markdown",
   "id": "0464d926",
   "metadata": {},
   "source": [
    "# Tupples\n",
    "# In tuple editing is not possible , as tuple are immuntable\n",
    "# Create\n",
    "# access\n",
    "# edit  ❌\n",
    "# add   ❌\n",
    "# delete ❌ (single item cant delte )\n",
    "# operations (same as list)\n",
    "# functions\n"
   ]
  },
  {
   "cell_type": "code",
   "execution_count": null,
   "id": "cd9f5488",
   "metadata": {},
   "outputs": [
    {
     "name": "stdout",
     "output_type": "stream",
     "text": [
      "()\n",
      "(1, 3, 2, 4, 5)\n",
      "(1, 2, 3, 4, 5, (1, 2, 3, 4, 5, (5, 6, 7, 8, 9)))\n",
      "('k', 'o', 'l', 'k', 'a', 't', 'a')\n",
      "5\n"
     ]
    }
   ],
   "source": [
    "\n",
    "a=()\n",
    "b=(1,3,2,4,5)\n",
    "c=(1,2,3,4,5,(1,2,3,4,5,(5,6,7,8,9)))\n",
    "d=tuple(\"kolkata\")\n",
    "print(a)\n",
    "print(b)\n",
    "print(c)\n",
    "print(d)\n",
    "x = c[-1][-1][0]\n",
    "print(x)"
   ]
  },
  {
   "cell_type": "code",
   "execution_count": 31,
   "id": "2f4f5406",
   "metadata": {},
   "outputs": [
    {
     "name": "stdout",
     "output_type": "stream",
     "text": [
      " \n",
      "1\n",
      "6\n",
      "t\n",
      "(1, 45, 3, 4, 2, 6, 23, 5, 7)\n",
      "[1, 2, 3, 4, 5, 6, 7, 23, 45]\n",
      "[45, 23, 7, 6, 5, 4, 3, 2, 1]\n",
      "2\n"
     ]
    }
   ],
   "source": [
    "# funtions\n",
    "print(\" \")\n",
    "print(min(b))\n",
    "print(len(c))\n",
    "print(max(d))\n",
    "b=(1,45,3,4,2,6,23,5,7)\n",
    "print(b) #unsorted \n",
    "p=sorted(b)\n",
    "print(p)#  tempoaray sort in ascending\n",
    "p=sorted(b,reverse=True)#permanent sort in descending\n",
    "print(p)\n",
    "p=b.index(3)\n",
    "print(p)"
   ]
  }
 ],
 "metadata": {
  "kernelspec": {
   "display_name": "Python 3",
   "language": "python",
   "name": "python3"
  },
  "language_info": {
   "codemirror_mode": {
    "name": "ipython",
    "version": 3
   },
   "file_extension": ".py",
   "mimetype": "text/x-python",
   "name": "python",
   "nbconvert_exporter": "python",
   "pygments_lexer": "ipython3",
   "version": "3.9.6"
  }
 },
 "nbformat": 4,
 "nbformat_minor": 5
}
