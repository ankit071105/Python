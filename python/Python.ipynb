{
  "cells": [
    {
      "cell_type": "code",
      "execution_count": 31,
      "id": "332ced2c-85a5-4a2d-9d73-5b763e6e14f7",
      "metadata": {
        "trusted": true
      },
      "outputs": [
        {
          "name": "stdout",
          "output_type": "stream",
          "text": [
            "India 23\n"
          ]
        }
      ],
      "source": [
        "print(\"India\" ,23)"
      ]
    },
    {
      "cell_type": "code",
      "execution_count": 32,
      "id": "be64d5b9-0965-460d-bb47-7285c1366900",
      "metadata": {
        "trusted": true
      },
      "outputs": [
        {
          "name": "stdout",
          "output_type": "stream",
          "text": [
            "7/11/2005\n",
            "India-USA\n",
            "Hello World\n"
          ]
        }
      ],
      "source": [
        "print(7,11,2005,sep=\"/\")\n",
        "print(\"India\" ,\"USA\", sep=\"-\")\n",
        "print(\"Hello\",end=' ')\n",
        "print(\"World\")"
      ]
    },
    {
      "cell_type": "code",
      "execution_count": 33,
      "id": "3656f273-5dee-4c7c-af4e-56d564a76ca5",
      "metadata": {
        "trusted": true
      },
      "outputs": [],
      "source": [
        " #  PYTHON SUPPORT 3 categories of Data-Types:\n",
        " #  * Basic Type (Int, FLoat , Complex,Boolean and string)\n",
        " #  * Container Type - (List, Tuples , Sets and Dictionary)\n",
        " #  *  User Types - Class\n"
      ]
    },
    {
      "cell_type": "code",
      "execution_count": 34,
      "id": "5ad5d113-5cb2-45ad-9954-bb81bcd0f2a3",
      "metadata": {
        "trusted": true
      },
      "outputs": [
        {
          "name": "stdout",
          "output_type": "stream",
          "text": [
            "455\n",
            "1e+308\n",
            "6.78333\n",
            "1.7e+308\n",
            "True False\n",
            "(4+3j)\n",
            "Ankit sub Add\n"
          ]
        }
      ],
      "source": [
        "# BASIC TYPES :-\n",
        "# INT VALUE\n",
        "print(455)\n",
        "#Range \n",
        "print(1e308) #max  10^308\n",
        "# FLOATING VALUE\n",
        "print(6.78333)\n",
        "print(1.7e308)\n",
        "# Boolean \n",
        "print(True , False)\n",
        "# Complex \n",
        "print(4+3j)\n",
        "# String : ' ', \" \", \"\"\" \"\"\"\n",
        "print('Ankit',\"sub\" ,\"\"\"Add\"\"\")"
      ]
    },
    {
      "cell_type": "code",
      "execution_count": 35,
      "id": "c3666d26-ddde-46db-8d91-311776797bd3",
      "metadata": {
        "trusted": true
      },
      "outputs": [
        {
          "name": "stdout",
          "output_type": "stream",
          "text": [
            "[1, 2, 3, 4, 5]\n",
            "(1, 2, 3, 4, 5)\n",
            "{1, 2, 3, 4, 5}\n",
            "{'Name': 'Ankit', 'Age': '20', 'Education': 'Btech'}\n"
          ]
        }
      ],
      "source": [
        "# * Container Type \n",
        "# List\n",
        "print([1,2,3,4,5])\n",
        "# Tupples\n",
        "print((1,2,3,4,5))\n",
        "# Sets\n",
        "print({1,2,3,4,5})\n",
        "# Dict\n",
        "print({\"Name\":\"Ankit\",\"Age\":\"20\",\"Education\":\"Btech\"})"
      ]
    },
    {
      "cell_type": "code",
      "execution_count": 36,
      "id": "b8a19014-ae7d-4d32-bd0c-8051aa7ed1af",
      "metadata": {
        "trusted": true
      },
      "outputs": [
        {
          "name": "stdout",
          "output_type": "stream",
          "text": [
            "Ankit 10 90.098\n",
            "Nitsh\n"
          ]
        }
      ],
      "source": [
        "# Variables (Dynamic Typing)\n",
        "name=\"Ankit\" #String\n",
        "p=10    #int\n",
        "s=90.098 #float\n",
        "print(name,p,s) \n",
        "_ = \"Nitsh\"\n",
        "print(_)"
      ]
    },
    {
      "cell_type": "code",
      "execution_count": 37,
      "id": "aa65effa-93be-477b-8d76-89996397df1d",
      "metadata": {
        "trusted": true
      },
      "outputs": [
        {
          "name": "stdout",
          "output_type": "stream",
          "text": [
            "lol\n",
            "90\n",
            "True\n"
          ]
        }
      ],
      "source": [
        "# Dynamic Binding (Conversion easily)\n",
        "a=\"lol\"\n",
        "print(a)\n",
        "a=90\n",
        "print(a)\n",
        "a=True\n",
        "print(a)\n"
      ]
    },
    {
      "cell_type": "code",
      "execution_count": 38,
      "id": "6a23b761-58fe-498e-8111-cdbd719aa2ce",
      "metadata": {
        "trusted": true
      },
      "outputs": [
        {
          "name": "stdout",
          "output_type": "stream",
          "text": [
            "90.4 34 True\n",
            "10 30 False\n",
            "4 4 4\n"
          ]
        }
      ],
      "source": [
        "# Easy way syntax\n",
        "a,b,c= 90.4,34,True\n",
        "print(a,b,c)\n",
        "a=10;b=30;c=False\n",
        "print(a,b,c)\n",
        "a=b=c=4\n",
        "print(a,b,c)"
      ]
    },
    {
      "cell_type": "code",
      "execution_count": 39,
      "id": "97641497-31c1-4192-90c7-1eb832a76a20",
      "metadata": {
        "trusted": true
      },
      "outputs": [
        {
          "name": "stdout",
          "output_type": "stream",
          "text": [
            "['False', 'None', 'True', '__peg_parser__', 'and', 'as', 'assert', 'async', 'await', 'break', 'class', 'continue', 'def', 'del', 'elif', 'else', 'except', 'finally', 'for', 'from', 'global', 'if', 'import', 'in', 'is', 'lambda', 'nonlocal', 'not', 'or', 'pass', 'raise', 'return', 'try', 'while', 'with', 'yield']\n"
          ]
        }
      ],
      "source": [
        "# python keywords\n",
        "import keyword\n",
        "print(keyword.kwlist)"
      ]
    },
    {
      "cell_type": "code",
      "execution_count": 40,
      "id": "29a6903f",
      "metadata": {},
      "outputs": [
        {
          "data": {
            "text/plain": [
              "'33'"
            ]
          },
          "execution_count": 40,
          "metadata": {},
          "output_type": "execute_result"
        }
      ],
      "source": [
        "# User Input\n",
        "input(\"Enter Your name\")\n"
      ]
    },
    {
      "cell_type": "code",
      "execution_count": 41,
      "id": "07b1127f",
      "metadata": {},
      "outputs": [
        {
          "name": "stdout",
          "output_type": "stream",
          "text": [
            "54.0\n",
            "-12.0\n",
            "693.0\n",
            "0.6363636363636364\n"
          ]
        },
        {
          "data": {
            "text/plain": [
              "float"
            ]
          },
          "execution_count": 41,
          "metadata": {},
          "output_type": "execute_result"
        }
      ],
      "source": [
        "# Simple calculator\n",
        "a=int(input(\"Enter Your First Number\"))\n",
        "b=float(input(\"Enter Your Second Number\"))\n",
        "c=(a)+(b)\n",
        "d=(a)-(b)\n",
        "e=(a)*(b)\n",
        "f=(a)/(b)\n",
        "print(c)\n",
        "print(d)\n",
        "print(e)\n",
        "print(f)\n",
        "type(c)\n",
        "type(d)\n",
        "type(e)\n",
        "type(f)\n"
      ]
    },
    {
      "cell_type": "code",
      "execution_count": null,
      "id": "de811126",
      "metadata": {},
      "outputs": [
        {
          "name": "stdout",
          "output_type": "stream",
          "text": [
            "42 100 12810 261170\n",
            "(3+99j) 3.0 99.0\n",
            "😀😆🤣 raw \\n String\n",
            "10 10\n",
            "None\n"
          ]
        }
      ],
      "source": [
        "#Numeric Literals\n",
        "\n",
        "# Number System\n",
        "a=0b101010 # Binary\n",
        "b=100      # Decimal\n",
        "c=0o31012  # Octal\n",
        "d=0x3fc32  # Hexa\n",
        "print(a,b,c,d)\n",
        "\n",
        "# Complex\n",
        "x=3+99j\n",
        "print(x,x.real,x.imag)\n",
        "\n",
        "# String '' , \" \", \"\"\" \"\"\"\n",
        "a=u\"\\U0001F600\\U0001F606\\U0001F923\"\n",
        "r = r\"raw \\n String\"\n",
        "print(a , r)\n",
        "\n",
        "# Boolean\n",
        "a=True+9\n",
        "b=False+10\n",
        "print(a,b)\n",
        "\n",
        "# Special\n",
        "a=None\n",
        "print(z)"
      ]
    },
    {
      "cell_type": "code",
      "execution_count": null,
      "id": "d0863888",
      "metadata": {},
      "outputs": [],
      "source": [
        "# Operators :-\n",
        "# Arthimetic\n",
        "# Comparsion\n",
        "# Logical\n",
        "# Bitwise\n",
        "# Assignment\n",
        "# Identify\n",
        "# Membership"
      ]
    },
    {
      "cell_type": "code",
      "execution_count": null,
      "id": "5ed549e0",
      "metadata": {},
      "outputs": [
        {
          "name": "stdout",
          "output_type": "stream",
          "text": [
            "77\n",
            "13\n",
            "1440\n",
            "1.40625\n",
            "13\n",
            "2025\n",
            "22\n"
          ]
        }
      ],
      "source": [
        "# Arthimetic Operators :-\n",
        "k=45\n",
        "p=32\n",
        "print(k+p) #add\n",
        "print(k-p) #sub\n",
        "print(k*p) #mul\n",
        "print(k/p) #div\n",
        "print(k%p) #mod\n",
        "print(k**2) #power\n",
        "print(k // 2)\n",
        "\n"
      ]
    },
    {
      "cell_type": "code",
      "execution_count": 63,
      "id": "875a7b83",
      "metadata": {},
      "outputs": [
        {
          "name": "stdout",
          "output_type": "stream",
          "text": [
            "True\n",
            "True\n",
            "False\n",
            "False\n",
            "True\n"
          ]
        }
      ],
      "source": [
        "# Comparsion/Relational Operators :-\n",
        "print(k  >  p)\n",
        "print(k >= p)\n",
        "print(k <= p)\n",
        "print(k == p)\n",
        "print(k != p)\n",
        "\n"
      ]
    },
    {
      "cell_type": "code",
      "execution_count": null,
      "id": "88d298c2",
      "metadata": {},
      "outputs": [
        {
          "name": "stdout",
          "output_type": "stream",
          "text": [
            "True\n",
            "False\n",
            "False\n"
          ]
        }
      ],
      "source": [
        "# Logical Operators :-\n",
        "x=True\n",
        "y=False\n",
        "print(x or y)\n",
        "print(x and y)\n",
        "print(not x)"
      ]
    },
    {
      "cell_type": "code",
      "execution_count": 66,
      "id": "e75e7684",
      "metadata": {},
      "outputs": [
        {
          "name": "stdout",
          "output_type": "stream",
          "text": [
            "8\n",
            "31\n",
            "0\n",
            "786432\n",
            "-25 -16\n"
          ]
        }
      ],
      "source": [
        "# Bitwise Operators :-\n",
        "x=24\n",
        "y=15\n",
        "print(x & y)\n",
        "print(x | y)\n",
        "print(x >> y)\n",
        "print(x << y)\n",
        "print(~x ,~y)\n"
      ]
    },
    {
      "cell_type": "code",
      "execution_count": 68,
      "id": "2b80c0aa",
      "metadata": {},
      "outputs": [
        {
          "name": "stdout",
          "output_type": "stream",
          "text": [
            "46\n",
            "43\n",
            "3\n",
            "3\n"
          ]
        }
      ],
      "source": [
        "# Assignment Operators :-\n",
        "x=43\n",
        "x +=3\n",
        "print(x)\n",
        "x -=3\n",
        "print(x)\n",
        "x &=3\n",
        "print(x)\n",
        "x |=3\n",
        "print(x)\n",
        "\n"
      ]
    },
    {
      "cell_type": "code",
      "execution_count": 75,
      "id": "c6289018",
      "metadata": {},
      "outputs": [
        {
          "name": "stdout",
          "output_type": "stream",
          "text": [
            "True\n",
            "False\n",
            "True\n"
          ]
        }
      ],
      "source": [
        "# Identify Operator :- (Memory location)\n",
        "a=\"Hello\"\n",
        "b=\"Hello\"\n",
        "print(a is b)\n",
        "a=[1,2,3]\n",
        "b=[1,2,3]\n",
        "print(a is b)\n",
        "print(a is not b)"
      ]
    },
    {
      "cell_type": "code",
      "execution_count": 78,
      "id": "ac7552a2",
      "metadata": {},
      "outputs": [
        {
          "name": "stdout",
          "output_type": "stream",
          "text": [
            "True\n"
          ]
        }
      ],
      "source": [
        "# Membership Operator :- \n",
        "x=\"Ankit\"\n",
        "print(\"A\" in x)"
      ]
    },
    {
      "cell_type": "code",
      "execution_count": null,
      "id": "5d1ddcdf",
      "metadata": {},
      "outputs": [
        {
          "name": "stdout",
          "output_type": "stream",
          "text": [
            "@ is required in email\n"
          ]
        }
      ],
      "source": [
        "# Login Logic with If else\n",
        "email = input(\"Enter Your email: \")\n",
        "\n",
        "if '@' in email:\n",
        "    password = input(\"Enter Your password: \")\n",
        "    if email == \"xyz@gmail.com\" and password == \"1234\":\n",
        "        print(\"Welcome\")\n",
        "    elif email == \"xyz@gmail.com\" and password != \"1234\":\n",
        "        print(\"Password details wrong, please correct it.\")\n",
        "        password = input(\"Enter Your password again: \")\n",
        "        if password == \"1234\":\n",
        "            print(\"Welcome\")\n",
        "        else:\n",
        "            print(\"Password details still incorrect.\")\n",
        "    else:\n",
        "        print(\"User credentials are wrong\")\n",
        "else:\n",
        "    print(\"@ is required in email\")\n"
      ]
    },
    {
      "cell_type": "code",
      "execution_count": null,
      "id": "956252f5",
      "metadata": {},
      "outputs": [
        {
          "name": "stdout",
          "output_type": "stream",
          "text": [
            "3 * 1 = 3\n",
            "3 * 2 = 6\n",
            "3 * 3 = 9\n",
            "3 * 4 = 12\n",
            "3 * 5 = 15\n",
            "3 * 6 = 18\n",
            "3 * 7 = 21\n",
            "3 * 8 = 24\n",
            "3 * 9 = 27\n",
            "3 * 10 = 30\n"
          ]
        }
      ],
      "source": [
        "# LOOPS\n",
        "n=int(input(\"Enter Your Number\"))\n",
        "i=1\n",
        "while i<11:\n",
        "    print(n,\"*\",i,\"=\",n * i)\n",
        "    i +=1"
      ]
    },
    {
      "cell_type": "code",
      "execution_count": 3,
      "id": "981c9401",
      "metadata": {},
      "outputs": [
        {
          "name": "stdout",
          "output_type": "stream",
          "text": [
            "Guess Lower\n",
            "Guess Lower\n",
            "Guess Higher\n",
            "Guess Lower\n",
            "Guess Lower\n",
            "Guess Lower\n",
            "Guess Higher\n",
            "Guess Higher\n",
            "Guess Lower\n",
            "Sahi Jawab\n",
            "Guess the number at  10  times\n"
          ]
        }
      ],
      "source": [
        "import random\n",
        "p=random.randint(1,100)\n",
        "i=1\n",
        "q=int(input(\"Chal Number guess kar\"))\n",
        "while q != p:\n",
        "    if q < p:\n",
        "        print(\"Guess Higher\")\n",
        "    else:\n",
        "        print(\"Guess Lower\")   \n",
        "    q=int(input(\"Chal Number guess kar\"))\n",
        "    i +=1 \n",
        "print(\"Sahi Jawab\")\n",
        "print(\"Guess the number at \",i,\" times\")\n",
        "\n"
      ]
    },
    {
      "cell_type": "code",
      "execution_count": 14,
      "id": "96635d27",
      "metadata": {},
      "outputs": [
        {
          "name": "stdout",
          "output_type": "stream",
          "text": [
            "[0, 1, 2, 3, 4, 5, 6, 7, 8, 9, 10]\n"
          ]
        },
        {
          "data": {
            "text/plain": [
              "[10, 9, 8, 7, 6, 5, 4, 3, 2]"
            ]
          },
          "execution_count": 14,
          "metadata": {},
          "output_type": "execute_result"
        }
      ],
      "source": [
        "print(list(range(11)))\n",
        "list(range(10,1,-1)) # first - start , second - stop , third -gap b/w\n"
      ]
    },
    {
      "cell_type": "code",
      "execution_count": 26,
      "id": "1fe711ee",
      "metadata": {},
      "outputs": [
        {
          "name": "stdout",
          "output_type": "stream",
          "text": [
            "k o l k a t a "
          ]
        }
      ],
      "source": [
        "for i in \"kolkata\":\n",
        "    print(i,end=\" \")\n"
      ]
    },
    {
      "cell_type": "code",
      "execution_count": 25,
      "id": "b682ff79",
      "metadata": {},
      "outputs": [
        {
          "name": "stdout",
          "output_type": "stream",
          "text": [
            "1 1 2 2 3 3 4 4 5 5 6 "
          ]
        }
      ],
      "source": [
        "n=[1,3,4,5,6,2,1,3,5,2,4]   \n",
        "n.sort() \n",
        "for i in n:\n",
        "    print(i,end=\" \")"
      ]
    },
    {
      "cell_type": "code",
      "execution_count": 38,
      "id": "b68acf9e",
      "metadata": {},
      "outputs": [
        {
          "name": "stdout",
          "output_type": "stream",
          "text": [
            " \n",
            "1  \n",
            "2 3  \n",
            "4 5 6  \n",
            "7 8 9 10  \n",
            "11 12 13 14 15  \n",
            "16 17 18 19 20 21  \n",
            "22 23 24 25 26 27 28  \n",
            "29 30 31 32 33 34 35 36  \n",
            "37 38 39 40 41 42 43 44 45  \n"
          ]
        }
      ],
      "source": [
        "r=int(input(\"Enter Your no of rows\"))\n",
        "s=1\n",
        "for i in range(r):\n",
        "    for j in range(i):\n",
        "        print(s,end=\" \")\n",
        "        s +=1\n",
        "    print(\" \")                \n",
        "        "
      ]
    },
    {
      "cell_type": "code",
      "execution_count": 43,
      "id": "d0ba5106",
      "metadata": {},
      "outputs": [
        {
          "name": "stdout",
          "output_type": "stream",
          "text": [
            "1\n",
            "2\n",
            "3\n",
            "4\n"
          ]
        }
      ],
      "source": [
        "for i in range(1,11):\n",
        "    if i == 5:\n",
        "        break\n",
        "    print(i)"
      ]
    },
    {
      "cell_type": "code",
      "execution_count": 45,
      "id": "c89ed77d",
      "metadata": {},
      "outputs": [
        {
          "name": "stdout",
          "output_type": "stream",
          "text": [
            "1\n",
            "2\n",
            "3\n",
            "4\n",
            "6\n",
            "7\n",
            "8\n",
            "9\n",
            "10\n"
          ]
        }
      ],
      "source": [
        "for i in range(1,11):\n",
        "    if i == 5: #skip 5 in output\n",
        "        continue\n",
        "    print(i)"
      ]
    },
    {
      "cell_type": "code",
      "execution_count": 46,
      "id": "276b14cb",
      "metadata": {},
      "outputs": [
        {
          "name": "stdout",
          "output_type": "stream",
          "text": [
            "1\n",
            "2\n",
            "3\n",
            "4\n",
            "5\n",
            "6\n",
            "7\n",
            "8\n",
            "9\n",
            "10\n"
          ]
        }
      ],
      "source": [
        "for i in range(1,11):\n",
        "    if i == 5:\n",
        "        pass\n",
        "    print(i)"
      ]
    },
    {
      "cell_type": "code",
      "execution_count": 48,
      "id": "7b1f73aa",
      "metadata": {},
      "outputs": [
        {
          "name": "stdout",
          "output_type": "stream",
          "text": [
            "120 3.141592653589793 11.090536506409418\n"
          ]
        }
      ],
      "source": [
        "import math\n",
        "a=math.factorial(5)\n",
        "b=math.pi\n",
        "c=math.sqrt(123)\n",
        "print(a,b,c)"
      ]
    },
    {
      "cell_type": "code",
      "execution_count": 63,
      "id": "9a52d559",
      "metadata": {},
      "outputs": [
        {
          "name": "stdout",
          "output_type": "stream",
          "text": [
            "65\n"
          ]
        },
        {
          "data": {
            "text/plain": [
              "[6, 7, 3, 5, 1, 2, 9, 4, 10]"
            ]
          },
          "execution_count": 63,
          "metadata": {},
          "output_type": "execute_result"
        }
      ],
      "source": [
        "import random\n",
        "a=random.randint(1,100)\n",
        "print(a)\n",
        "b=[1,3,4,2,5,7,10,6,9]\n",
        "random.shuffle(b)\n",
        "b"
      ]
    },
    {
      "cell_type": "code",
      "execution_count": 72,
      "id": "c5f3cf00",
      "metadata": {},
      "outputs": [
        {
          "name": "stdout",
          "output_type": "stream",
          "text": [
            "Sun Jun 15 21:55:56 2025\n",
            "0\n"
          ]
        },
        {
          "data": {
            "text/plain": [
              "1750004758.102585"
            ]
          },
          "execution_count": 72,
          "metadata": {},
          "output_type": "execute_result"
        }
      ],
      "source": [
        "import time\n",
        "print(time.ctime())\n",
        "time.sleep(2)\n",
        "print(time.daylight)\n",
        "\n",
        "time.time()\n"
      ]
    },
    {
      "cell_type": "code",
      "execution_count": 74,
      "id": "97eaf5bc",
      "metadata": {},
      "outputs": [
        {
          "data": {
            "text/plain": [
              "['index.html',\n",
              " '.DS_Store',\n",
              " 'README.md',\n",
              " 'Python.ipynb',\n",
              " '.git',\n",
              " 'assets',\n",
              " 'vendor']"
            ]
          },
          "execution_count": 74,
          "metadata": {},
          "output_type": "execute_result"
        }
      ],
      "source": [
        "import os\n",
        "os.getcwd()\n",
        "os.listdir()"
      ]
    }
  ],
  "metadata": {
    "kernelspec": {
      "display_name": "Python 3",
      "language": "python",
      "name": "python3"
    },
    "language_info": {
      "codemirror_mode": {
        "name": "ipython",
        "version": 3
      },
      "file_extension": ".py",
      "mimetype": "text/x-python",
      "name": "python",
      "nbconvert_exporter": "python",
      "pygments_lexer": "ipython3",
      "version": "3.9.6"
    }
  },
  "nbformat": 4,
  "nbformat_minor": 5
}
