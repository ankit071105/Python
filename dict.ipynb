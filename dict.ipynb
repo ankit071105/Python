{
 "cells": [
  {
   "cell_type": "markdown",
   "id": "a15b5c34",
   "metadata": {},
   "source": [
    "# Dictionary\n",
    "# has not index\n",
    "# mutable types\n",
    "# key -> Immutable , value -> mutable\n",
    "# key => should be unique\n",
    "\n",
    "# Mutable -> List/sets/dictionary\n",
    "# Immutable -> Strings/tuples/int/float/boolean/complex"
   ]
  },
  {
   "cell_type": "markdown",
   "id": "428af088",
   "metadata": {},
   "source": [
    "# Dictionary\n",
    "# Create\n",
    "# access (only through key)\n",
    "# edit  (only through key)\n",
    "# add   (only adding key & its value )\n",
    "# delete   (only through key)\n",
    "# operations ❌ (only loops and membership works)\n",
    "# functions  (Same as list)"
   ]
  },
  {
   "cell_type": "markdown",
   "id": "39827b3b",
   "metadata": {},
   "source": []
  },
  {
   "cell_type": "code",
   "execution_count": null,
   "id": "a223194d",
   "metadata": {},
   "outputs": [
    {
     "name": "stdout",
     "output_type": "stream",
     "text": [
      "{}\n",
      "{'Name': 'Shyam'}\n",
      "{'Name': 'Ankit', 'Gender': 'Male'}\n",
      "{(1, 2, 4): 'Nitish'}\n"
     ]
    }
   ],
   "source": [
    "s={}\n",
    "print(s)\n",
    "a={'Name':'Ankit','Name':'Shyam'} # updating automatically  (key ,should be unique)\n",
    "print(a)\n",
    "a={'Name':'Ankit','Gender':'Male'}\n",
    "print(a)\n",
    "# b={[1,2,4]:'Nitish'} # not possible hashing error ❌\n",
    "b={(1,2,4):'Nitish'}\n",
    "print(b)\n",
    "\n"
   ]
  },
  {
   "cell_type": "code",
   "execution_count": null,
   "id": "b04ca7b5",
   "metadata": {},
   "outputs": [
    {
     "name": "stdout",
     "output_type": "stream",
     "text": [
      "{'Name': 'Ankit', 'College': 'Iter', 'Marks': {'Dsa': 72, 'Igt': 87, 'Ad': 76}}\n",
      "Iter\n",
      "{'Dsa': 72, 'Igt': 87, 'Ad': 76}\n",
      "87\n",
      "{'Name': 'Rahul', 'College': 'Iter', 'Marks': {'Dsa': 72, 'Igt': 87, 'Ad': 76}}\n",
      "{'Name': 'Rahul', 'College': 'Iter', 'Marks': {'Dsa': 92, 'Igt': 87, 'Ad': 76}}\n",
      "{'Name': 'Rahul', 'College': 'Iter', 'Marks': {'Dsa': 92, 'Igt': 87, 'Ad': 76}, 'Age': 30}\n",
      "{'Name': 'Rahul', 'College': 'Iter', 'Marks': {'Dsa': 92, 'Igt': 87, 'Ad': 76, 'COA': 78}, 'Age': 30}\n",
      "{'Name': 'Rahul', 'College': 'Iter', 'Marks': {'Dsa': 92, 'Igt': 87, 'Ad': 76}, 'Age': 30}\n",
      "{}\n"
     ]
    }
   ],
   "source": [
    "# 2d Dictionary\n",
    "\n",
    "\n",
    "print(s)\n",
    "p=s.get('College') # used for only 1D Dictionary\n",
    "print(p)\n",
    "print(s['Marks']) # through key\n",
    "print(s['Marks']['Igt']) # through key in depth\n",
    "s['Name']='Rahul'\n",
    "print(s) # name changes\n",
    "s['Marks']['Dsa']=92\n",
    "print(s) # marks changes\n",
    "s['Age']=30\n",
    "print(s) # age added changes\n",
    "s['Marks']['COA']=78\n",
    "print(s) # new subject marks added changes\n",
    "del s['Marks']['COA']\n",
    "print(s) # delted the  subject marks  \n",
    "s.clear()\n",
    "print(s)"
   ]
  },
  {
   "cell_type": "code",
   "execution_count": null,
   "id": "2088526a",
   "metadata": {},
   "outputs": [
    {
     "name": "stdout",
     "output_type": "stream",
     "text": [
      "Name Ankit College Iter Marks {'Dsa': 72, 'Igt': 87, 'Ad': 76} \n",
      "True\n",
      "False\n"
     ]
    }
   ],
   "source": [
    "s={\"Name\":\"Ankit\",'College':'Iter','Marks':{'Dsa':72,'Igt':87,\"Ad\":76}}\n",
    "for i in s:\n",
    "    print(i,s[i],end=\" \")\n",
    "print('')    \n",
    "print('Name' in s ) # key only works\n",
    "print('Ankit' in s )   # values doesnt  works\n"
   ]
  },
  {
   "cell_type": "code",
   "execution_count": 31,
   "id": "6c3f6666",
   "metadata": {},
   "outputs": [
    {
     "name": "stdout",
     "output_type": "stream",
     "text": [
      "3\n",
      "College\n",
      "Name\n",
      "['College', 'Marks', 'Name']\n",
      "dict_keys(['Name', 'College', 'Marks'])\n",
      "dict_values(['Ankit', 'Iter', {'Dsa': 72, 'Igt': 87, 'Ad': 76}])\n"
     ]
    }
   ],
   "source": [
    "# functions\n",
    "s={\"Name\":\"Ankit\",'College':'Iter','Marks':{'Dsa':72,'Igt':87,\"Ad\":76}}\n",
    "print(len(s))\n",
    "print(min(s))\n",
    "print(max(s))\n",
    "print(sorted(s))\n",
    "print(s.keys())\n",
    "print(s.values())"
   ]
  },
  {
   "cell_type": "code",
   "execution_count": 46,
   "id": "7603db17",
   "metadata": {},
   "outputs": [
    {
     "name": "stdout",
     "output_type": "stream",
     "text": [
      "4427802096\n",
      "4427802096\n",
      "4427802096\n",
      "5\n",
      "1869\n"
     ]
    }
   ],
   "source": [
    "#  Python Deep Dive | Mutability | Garbage Collection | Variable\n",
    "\n",
    "# aliasing & Reference Counting\n",
    "import sys\n",
    "a=\"Corona\"\n",
    "b=a\n",
    "c=b\n",
    "print(id(a))\n",
    "print(id(b))\n",
    "print(id(c))\n",
    "print(sys.getrefcount(a)) # 4 because total variable + 1\n",
    "a=2\n",
    "b=a\n",
    "c=b\n",
    "print(sys.getrefcount(a)) # 4 because memory used in total system it showing 1868"
   ]
  }
 ],
 "metadata": {
  "kernelspec": {
   "display_name": "Python 3",
   "language": "python",
   "name": "python3"
  },
  "language_info": {
   "codemirror_mode": {
    "name": "ipython",
    "version": 3
   },
   "file_extension": ".py",
   "mimetype": "text/x-python",
   "name": "python",
   "nbconvert_exporter": "python",
   "pygments_lexer": "ipython3",
   "version": "3.9.6"
  }
 },
 "nbformat": 4,
 "nbformat_minor": 5
}
