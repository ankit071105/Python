{
 "cells": [
  {
   "cell_type": "markdown",
   "id": "1da328ce",
   "metadata": {},
   "source": [
    "# List\n",
    "# Create\n",
    "# access\n",
    "# edit\n",
    "# add\n",
    "# delete\n",
    "# operations\n",
    "# functions"
   ]
  },
  {
   "cell_type": "code",
   "execution_count": 143,
   "id": "da340f3c",
   "metadata": {},
   "outputs": [
    {
     "name": "stdout",
     "output_type": "stream",
     "text": [
      "['Tok', 34, 34.54, True, (3+5j)]\n",
      "[34, 34.54, True, (3+5j)]\n",
      "[34, 34.54, True]\n",
      "[]\n",
      "['Hello', 'World', ['Mohan', 'Manjhi']]\n",
      "2023\n",
      "[[2023, 'Human']]\n",
      "Human\n",
      "['Hello', 'World', ['Mohan', 'Manjhi', [2023, 'Human']]]\n",
      "['I', ' ', 'a', 'm', ' ', 'a', ' ', 'b', 'o', 'y', ' ', 'w', 'i', 't', 'h', ' ', 'a', 'g', 'e', ' ', '2', '0']\n",
      "['0', '2', ' ', 'e', 'g', 'a', ' ', 'h', 't', 'i', 'w', ' ', 'y', 'o', 'b', ' ', 'a', ' ', 'm', 'a', ' ', 'I']\n",
      "100\n",
      "['Mohan', 'world', 'Manjhi', 1, 3, 4, 3.4, 3.1, 100000, 1999, 'Hello', 'Ankit', True, 'K', 'o', 'l', 'k', 'a', 't', 'a']\n",
      "[]\n"
     ]
    }
   ],
   "source": [
    "a=[\"Tok\",34,34.54,True,3+5j] #heterogenous \n",
    "print(a)\n",
    "a.remove(\"Tok\") # removing first elemnent\n",
    "print(a)\n",
    "a.pop() # removing last elemnent\n",
    "print(a)\n",
    "a.clear()\n",
    "print(a)\n",
    "c=[\"Hello\",'World',[\"Mohan\", \"Manjhi\"]] #heterogenous  2d list\n",
    "print(c)\n",
    "b=[\"Hello\",'World',[\"Mohan\", \"Manjhi\",[2023,\"Human\"]]] #heterogenous  3d list\n",
    "\n",
    "x=b[-1]# Second list \n",
    "y=x[-1]# third list \n",
    "print(y[0]) # third list  first element\n",
    "print(x[::-3]) # Second list  first & second element\n",
    "print(b[2][2][1])# third list  first element\n",
    "print(b)\n",
    "d=list(\"I am a boy with age 20\")\n",
    "print(d)\n",
    "print(d[::-1]) # reverse the string\n",
    "y[0]=100 # string get into int \"Editing in python\"\n",
    "print(y[0]) # third list  first element\n",
    "x[-1:]=[1,3,4,3.4,3.1] # adding element in second list \n",
    "x.append(100000)#adding element at last in second list \n",
    "x.extend([1999,\"Hello\",\"Ankit\",True]) #adding element in second list \n",
    "x.extend(\"Kolkata\") #adding element in second list \n",
    "x.insert(1,\"world\") #adding element in second list at index 1\n",
    "print(x) # printing the second list\n",
    "# delete\n",
    "del x[2:] # delteing all element after index 2\n",
    "del x[:1] # delteing first  element \n",
    "del x[:] # delteing all element after index 2\n",
    "print(x)"
   ]
  },
  {
   "cell_type": "code",
   "execution_count": 144,
   "id": "e1c72fce",
   "metadata": {},
   "outputs": [
    {
     "name": "stdout",
     "output_type": "stream",
     "text": [
      "['Tok', 34, 34.54, True, (3+5j)]\n",
      "[34, 34.54, True, (3+5j)]\n",
      "['Hello', 'World', ['Mohan', 'Manjhi']]\n",
      "[34, 34.54, True, (3+5j), 'Hello', 'World', ['Mohan', 'Manjhi', [2023, 'Human']]]\n",
      "[12, 23, 3, 34, 5, 1, 2, 12, 23, 3, 34, 5, 1, 2, 12, 23, 3, 34, 5, 1, 2]\n",
      "Hello World ['Mohan', 'Manjhi', [2023, 'Human']]  \n",
      "1\n",
      "7\n",
      "34\n",
      "[1, 2, 3, 5, 12, 23, 34]\n",
      "[34, 23, 12, 5, 3, 2, 1]\n",
      "4\n"
     ]
    }
   ],
   "source": [
    "a=[\"Tok\",34,34.54,True,3+5j] #heterogenous \n",
    "print(a)\n",
    "a.remove(\"Tok\") # removing first elemnent\n",
    "print(a)\n",
    "c=[\"Hello\",'World',[\"Mohan\", \"Manjhi\"]] #heterogenous  2d list\n",
    "print(c)\n",
    "b=[\"Hello\",'World',[\"Mohan\", \"Manjhi\",[2023,\"Human\"]]] #heterogenous  3d list\n",
    "print(a+b)\n",
    "a=[12,23,3,34,5,1,2]\n",
    "print(a*3)\n",
    "for i in b:\n",
    "    print(i,end=\" \") #printing the  elments\n",
    "\"hello\".capitalize() in b #using unique functions\n",
    "[\"Mohan\", \"Manjhi\",[2023,\"Human\"]]in b  #used because direct list doesnt belong\n",
    "# funtions\n",
    "print(\" \")\n",
    "print(min(a))\n",
    "print(len(a))\n",
    "print(max(a))\n",
    "print(sorted(a))#  tempoaray sort\n",
    "a.sort(reverse=True) #permanent sort\n",
    "print(a)\n",
    "p=a.index(3)\n",
    "print(p)"
   ]
  },
  {
   "cell_type": "code",
   "execution_count": 145,
   "id": "7eb706a1",
   "metadata": {},
   "outputs": [
    {
     "name": "stdout",
     "output_type": "stream",
     "text": [
      "How Are You?  \n",
      "kumarankit\n"
     ]
    }
   ],
   "source": [
    "# capitalize the letter but without using title\n",
    "s=\"how are you?\"\n",
    "p=s.split()\n",
    "for i in p:\n",
    "    print(i.capitalize(),end=' ')\n",
    "\n",
    "# before @ print\n",
    "print(\" \")\n",
    "q=\"kumarankit@gmail.com\"\n",
    "print(q[:q.find(\"@\")])    "
   ]
  },
  {
   "cell_type": "code",
   "execution_count": 146,
   "id": "1003ee6b",
   "metadata": {},
   "outputs": [
    {
     "name": "stdout",
     "output_type": "stream",
     "text": [
      "[1, 2, 3, 4, 5]\n"
     ]
    }
   ],
   "source": [
    "# i/p: [1,1,2,2,3,3,4,4,5,5,5]\n",
    "# o/p : [1,2,3,4,5]\n",
    "a=[1,1,2,2,3,3,4,4,5,5,5]\n",
    "b=[]\n",
    "for i in a:\n",
    "    if i not in b:\n",
    "        b.append(i)\n",
    "print(b)\n",
    "\n",
    "\n"
   ]
  }
 ],
 "metadata": {
  "kernelspec": {
   "display_name": "Python 3",
   "language": "python",
   "name": "python3"
  },
  "language_info": {
   "codemirror_mode": {
    "name": "ipython",
    "version": 3
   },
   "file_extension": ".py",
   "mimetype": "text/x-python",
   "name": "python",
   "nbconvert_exporter": "python",
   "pygments_lexer": "ipython3",
   "version": "3.9.6"
  }
 },
 "nbformat": 4,
 "nbformat_minor": 5
}
