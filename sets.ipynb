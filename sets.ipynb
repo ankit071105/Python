{
 "cells": [
  {
   "cell_type": "markdown",
   "id": "b56ebf0c",
   "metadata": {},
   "source": [
    "# Sets\n",
    "# not allow duplicates ❌\n",
    "# dont allpw mutable ❌\n",
    "# sets dont allow indexing/slicing ❌\n",
    "# sets itself is a mutable data type\n"
   ]
  },
  {
   "cell_type": "markdown",
   "id": "eab5990e",
   "metadata": {},
   "source": [
    "# Sets\n",
    "# Create\n",
    "# access ❌\n",
    "# edit  ❌\n",
    "# add   \n",
    "# delete ❌ (single item can't delte )\n",
    "# remove \n",
    "# operations ❌ (only loops and membership works)\n",
    "# functions  (Same as list)"
   ]
  },
  {
   "cell_type": "code",
   "execution_count": null,
   "id": "4d1f175f",
   "metadata": {},
   "outputs": [
    {
     "name": "stdout",
     "output_type": "stream",
     "text": [
      "{1, 2, 3, 4}\n",
      "{'String', (1, 2, 4)}\n"
     ]
    }
   ],
   "source": [
    "s={} # this is empty dict ❌\n",
    "type(s)\n",
    "s=set() # this is empty set \n",
    "type(s) \n",
    "a={1,2,1,2,3,4,2,3,4,1,2}\n",
    "print(a) # automatically remove duplicates\n",
    "# b={[1,2,4],\"String\"} ❌ mutable and immuatable is not allowed\n",
    "# b={[1,2,4],[1,2,4]}❌ mutable and mutable is not allowed\n",
    "b={(1,2,4),\"String\"} # only immuatable and immuatable is allowed\n",
    "print(b) # sets not follow indexing it follow Hashing functions"
   ]
  },
  {
   "cell_type": "code",
   "execution_count": 16,
   "id": "0f836933",
   "metadata": {},
   "outputs": [
    {
     "name": "stdout",
     "output_type": "stream",
     "text": [
      "{0, 33, 1, 3, 4, 5, 2, 42, 11, 21, 29}\n",
      "{0, 1, 2, 3, 5}\n",
      "[0, 1, 2, 3, 4, 5, 11, 21, 33]\n",
      "[42, 29, 5, 3, 2, 1, 0]\n",
      "{33, 11, 4, 21}\n",
      "{42, 29}\n",
      "{33, 4, 42, 11, 21, 29}\n",
      "False\n",
      "False\n",
      "False\n",
      "9\n",
      "0\n",
      "42\n",
      "80\n",
      "None\n"
     ]
    }
   ],
   "source": [
    "# Functions\n",
    "s={11,33,21,4,5,0,3,1,2}\n",
    "p={1,3,29,42,5,0,3,2}\n",
    "a=s.union(p) #sum\n",
    "print(a)\n",
    "a=s.intersection(p) # common\n",
    "print(a)\n",
    "a=sorted(s) # sort in ascending\n",
    "print(a)\n",
    "a=sorted(p,reverse=True) # sort in descending\n",
    "print(a)\n",
    "a=s.difference(p) # element which are not in p\n",
    "print(a)\n",
    "a=p.difference(s) # element which are not in s\n",
    "print(a)\n",
    "a=p.symmetric_difference(s) # symmetric difference b/w both of them\n",
    "print(a)\n",
    "a=s.isdisjoint(p) # no common element then true else false\n",
    "print(a)\n",
    "a=s.issubset(p) # is there subset b/w both set\n",
    "print(a)\n",
    "a=s.issuperset(p) # is there superset b/w both set\n",
    "print(a)\n",
    "print(len(s))\n",
    "print(min(s))\n",
    "print(max(p))\n",
    "print(sum(s))\n",
    "a=s.clear() # is there superset b/w both set\n",
    "print(a)\n",
    "\n"
   ]
  }
 ],
 "metadata": {
  "kernelspec": {
   "display_name": "Python 3",
   "language": "python",
   "name": "python3"
  },
  "language_info": {
   "codemirror_mode": {
    "name": "ipython",
    "version": 3
   },
   "file_extension": ".py",
   "mimetype": "text/x-python",
   "name": "python",
   "nbconvert_exporter": "python",
   "pygments_lexer": "ipython3",
   "version": "3.9.6"
  }
 },
 "nbformat": 4,
 "nbformat_minor": 5
}
