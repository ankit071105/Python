{
 "cells": [
  {
   "cell_type": "code",
   "execution_count": 8,
   "id": "d9a1099b",
   "metadata": {},
   "outputs": [
    {
     "name": "stdout",
     "output_type": "stream",
     "text": [
      "0 Even Number\n",
      "1 Odd Number\n",
      "2 Even Number\n",
      "3 Odd Number\n",
      "4 Even Number\n",
      "5 Odd Number\n",
      "6 Even Number\n",
      "7 Odd Number\n",
      "8 Even Number\n",
      "9 Odd Number\n",
      "10 Even Number\n",
      "11 Odd Number\n",
      "12 Even Number\n",
      "13 Odd Number\n",
      "14 Even Number\n",
      "15 Odd Number\n",
      "16 Even Number\n",
      "17 Odd Number\n",
      "18 Even Number\n",
      "19 Odd Number\n",
      "\n",
      "        This function tells if a given number is odd or even\n",
      "        I/p :- a integer\n",
      "        O/p :- odd/even\n",
      "        Created by : Ankit\n",
      "        Last edited : 16 Jun 2025\n",
      "    \n"
     ]
    }
   ],
   "source": [
    "def is_even(n):\n",
    "    \"\"\"\n",
    "        This function tells if a given number is odd or even\n",
    "        I/p :- a integer\n",
    "        O/p :- odd/even\n",
    "        Created by : Ankit\n",
    "        Last edited : 16 Jun 2025\n",
    "    \"\"\"\n",
    "    if type(n) == int:\n",
    "        if n % 2 == 0:\n",
    "            return \"Even Number\"\n",
    "        else:\n",
    "            return \"Odd Number\"\n",
    "    else:\n",
    "        print(\"Use only integer Value\")    \n",
    "n=int(input(\"Enter the value\"))\n",
    "for i in range(n):\n",
    "    print(i,is_even(i))  \n",
    "\n",
    "print(is_even.__doc__)    "
   ]
  },
  {
   "cell_type": "code",
   "execution_count": 14,
   "id": "034ab907",
   "metadata": {},
   "outputs": [
    {
     "data": {
      "text/plain": [
       "81"
      ]
     },
     "execution_count": 14,
     "metadata": {},
     "output_type": "execute_result"
    }
   ],
   "source": [
    "def powr(a=1,b=1):\n",
    "    return a**b\n",
    "powr() #taking default input\n",
    "powr(2,5)  #taking positional input\n",
    "powr(5)#taking default input\n",
    "powr(b=4,a=3)  #taking keyword input\n"
   ]
  },
  {
   "cell_type": "code",
   "execution_count": 37,
   "id": "03707f3d",
   "metadata": {},
   "outputs": [
    {
     "name": "stdout",
     "output_type": "stream",
     "text": [
      "(1, 2, 3, 4, 5, 6, 7, 8, 9, 10)\n",
      "<class 'tuple'>\n",
      "3628800\n",
      "55\n"
     ]
    }
   ],
   "source": [
    "def flexi(*n):# ( * ) creating tupples which is calculating factorial\n",
    "    p=1;q=0\n",
    "    print(n)\n",
    "    print(type(n)) \n",
    "    for i in n:\n",
    "         q +=i\n",
    "         p *= i\n",
    "    print(p)  # factorial of n numbers  \n",
    "    print(q)    # sum of n numbers\n",
    "    \n",
    "flexi(1,2,3,4,5,6,7,8,9,10)     "
   ]
  },
  {
   "cell_type": "code",
   "execution_count": 40,
   "id": "700b090d",
   "metadata": {},
   "outputs": [
    {
     "name": "stdout",
     "output_type": "stream",
     "text": [
      "6\n"
     ]
    }
   ],
   "source": [
    "def h(y):\n",
    "    global x # not use until you are in big trouble\n",
    "    x +=1\n",
    "x=5\n",
    "h(x)\n",
    "print(x)    "
   ]
  },
  {
   "cell_type": "code",
   "execution_count": null,
   "id": "1eb1c334",
   "metadata": {},
   "outputs": [
    {
     "name": "stdout",
     "output_type": "stream",
     "text": [
      "Inside f\n",
      "Inside g\n"
     ]
    }
   ],
   "source": [
    "# multiple functions\n",
    "def f():\n",
    "    print(\"Inside f\")\n",
    "    def g():\n",
    "        print(\"Inside g\")\n",
    "    g() # second call due to first call\n",
    "f()     # first call   "
   ]
  },
  {
   "cell_type": "code",
   "execution_count": 44,
   "id": "76a427f6",
   "metadata": {},
   "outputs": [
    {
     "name": "stdout",
     "output_type": "stream",
     "text": [
      "6\n",
      "7\n",
      "x =  5\n",
      "z =  6\n"
     ]
    }
   ],
   "source": [
    "def g(x):\n",
    "    def h(x):\n",
    "        x +=1\n",
    "        print(x)\n",
    "    x +=1\n",
    "    print(x)\n",
    "    h(x)\n",
    "    return x\n",
    "x=5\n",
    "z=g(x)\n",
    "print('x = ',x)\n",
    "print('z = ',z)\n",
    "\n"
   ]
  },
  {
   "cell_type": "code",
   "execution_count": null,
   "id": "f5c61f8e",
   "metadata": {},
   "outputs": [
    {
     "name": "stdout",
     "output_type": "stream",
     "text": [
      "[1, 2, 3, 4, 100]\n"
     ]
    }
   ],
   "source": [
    "def f(n):\n",
    "    return n**2\n",
    "f(2)\n",
    "x=f\n",
    "x(4)\n",
    "p=[1,2,3,4,x(10)] #  // function can be determined in python  //\n",
    "print(p)\n",
    "\n",
    "\n"
   ]
  }
 ],
 "metadata": {
  "kernelspec": {
   "display_name": "Python 3",
   "language": "python",
   "name": "python3"
  },
  "language_info": {
   "codemirror_mode": {
    "name": "ipython",
    "version": 3
   },
   "file_extension": ".py",
   "mimetype": "text/x-python",
   "name": "python",
   "nbconvert_exporter": "python",
   "pygments_lexer": "ipython3",
   "version": "3.9.6"
  }
 },
 "nbformat": 4,
 "nbformat_minor": 5
}
